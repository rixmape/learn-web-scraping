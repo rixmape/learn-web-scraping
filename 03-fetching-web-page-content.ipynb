{
 "cells": [
  {
   "cell_type": "markdown",
   "metadata": {},
   "source": [
    "# Fetching Web Page Content\n",
    "\n",
    "Now that we have a basic understanding of web scraping and the composition of a web page, let's proceed to obtaining the HTML content of a web page. We will use the `requests` library for this task.\n",
    "\n",
    "## Required Libraries\n",
    "\n",
    "Before we proceed, ensure that you installed all the necessary libraries in the `requirements.txt` file. If not, you can install them using the following command:\n",
    "\n",
    "```bash\n",
    "!pip install -r requirements.txt\n",
    "```\n",
    "\n",
    "From here, I will assume that you have installed all the necessary libraries. If you haven't, please do so before proceeding.\n",
    "\n",
    "## What is the `requests` library?\n",
    "\n",
    "`requests` is a Python library that allows you to send HTTP requests using Python. It is a very powerful library and is widely used for obtaining web page content. You can find more information about the `requests` library [here](https://docs.python-requests.org/en/latest/).\n",
    "\n",
    "## Basic Usage\n",
    "\n",
    "The `requests` library is very easy to use. You can use it to send HTTP requests to a web server and obtain the response. The response will contain the HTML content of the web page. Here is a simple example of how to use the `requests` library to obtain the HTML content of a web page:"
   ]
  },
  {
   "cell_type": "code",
   "execution_count": 1,
   "metadata": {},
   "outputs": [
    {
     "data": {
      "text/plain": [
       "<Response [200]>"
      ]
     },
     "execution_count": 1,
     "metadata": {},
     "output_type": "execute_result"
    }
   ],
   "source": [
    "import requests\n",
    "\n",
    "link = \"https://bicol-u.edu.ph/\"\n",
    "response = requests.get(link)\n",
    "response"
   ]
  },
  {
   "cell_type": "markdown",
   "metadata": {},
   "source": [
    "Let's analyze the code above:\n",
    "\n",
    "1. We first import the `requests` library using the `import requests` statement.\n",
    "\n",
    "2. Variable `link` is then defined. It contains the URL of the web page we want to scrape. In this case, it's the website of [Bicol University](https://bicol-u.edu.ph/).\n",
    "\n",
    "3. The `requests.get()` function is called with the `link` variable as an argument. This function sends an HTTP GET request to the web server and returns the response. The response is then stored in the `response` variable.\n",
    "\n",
    "4. Finally, we print the `response` variable to see the result. Since we are using a Jupyter notebook, no need to use the `print()` function. We can just type the variable name and run the cell."
   ]
  },
  {
   "cell_type": "markdown",
   "metadata": {},
   "source": [
    "## Response Content\n",
    "\n",
    "To see the HTML content of the web page, we can access the `text` attribute of the `response` variable. This attribute contains the HTML content of the web page. Since the HTML content is quite long, we will only display the first 1000 characters of the HTML content."
   ]
  },
  {
   "cell_type": "code",
   "execution_count": 2,
   "metadata": {},
   "outputs": [
    {
     "data": {
      "text/plain": [
       "'<!DOCTYPE html>\\n<html lang=\"en-US\">\\n    <head>\\n        <meta charset=\"UTF-8\">\\n        <meta name=\"viewport\" content=\"width=device-width, initial-scale=1\">\\n        <link rel=\"icon\" href=\"/wp-content/uploads/2022/11/Bicol_University-1.png\" sizes=\"any\">\\n                <link rel=\"apple-touch-icon\" href=\"/wp-content/themes/yootheme/packages/theme-wordpress/assets/images/apple-touch-icon.png\">\\n                <title>Official Website of Bicol University</title>\\n<meta name=\\'robots\\' content=\\'max-image-preview:large\\' />\\n<link rel=\\'dns-prefetch\\' href=\\'//translate.google.com\\' />\\n<link rel=\"alternate\" type=\"application/rss+xml\" title=\"Official Website of Bicol University &raquo; Feed\" href=\"https://bicol-u.edu.ph/feed/\" />\\n<link rel=\"alternate\" type=\"application/rss+xml\" title=\"Official Website of Bicol University &raquo; Comments Feed\" href=\"https://bicol-u.edu.ph/comments/feed/\" />\\n<script type=\"text/javascript\">\\n/* <![CDATA[ */\\nwindow._wpemojiSettings = {\"baseUrl\":\"https:\\\\/\\\\/s.w.org\\\\/images\\\\/co'"
      ]
     },
     "execution_count": 2,
     "metadata": {},
     "output_type": "execute_result"
    }
   ],
   "source": [
    "response.text[:1000]"
   ]
  },
  {
   "cell_type": "markdown",
   "metadata": {},
   "source": [
    "<h3 style=\"color: darkorange\">Note: Persistent Variables in Jupyter Notebook</h3>\n",
    "\n",
    "Have you noticed that even though we didn't define the `response` variable in the previous cell, we can still access it? This is because **Jupyter notebook is stateful**. This means that variables defined in one cell can be accessed in another cell, given that the cell has been run. \n",
    "\n",
    "This is a very useful feature of Jupyter notebook. However, it can also lead to confusion. Always remember to run the cells in order to avoid errors."
   ]
  },
  {
   "cell_type": "markdown",
   "metadata": {},
   "source": [
    "## Query Parameters\n",
    "\n",
    "Before jumping into the code, let's review some basic concepts. When you visit a website, you often see a URL with a `?` followed by some parameters. These parameters are called query parameters. They are used to send data to the server. \n",
    "\n",
    "For example, the URL `https://www.example.com/search?q=python` contains a query parameter `q` with the value `python`. This URL is used to search for the term `python` on the website.\n",
    "\n",
    "You can also use query parameters when sending HTTP requests using the `requests` library. You can pass the query parameters as a dictionary to the `params` parameter of the `requests.get()` function. Here is an example:"
   ]
  },
  {
   "cell_type": "code",
   "execution_count": 3,
   "metadata": {},
   "outputs": [
    {
     "data": {
      "text/plain": [
       "'https://bicol-u.edu.ph/?s=computer+science'"
      ]
     },
     "execution_count": 3,
     "metadata": {},
     "output_type": "execute_result"
    }
   ],
   "source": [
    "base_link = \"https://bicol-u.edu.ph/\"\n",
    "search_term = \"computer science\"\n",
    "params = {\"s\": search_term}\n",
    "\n",
    "response = requests.get(base_link, params=params)\n",
    "response.url"
   ]
  },
  {
   "cell_type": "markdown",
   "metadata": {},
   "source": [
    "Time to break down the code:\n",
    "\n",
    "1. We define the `base_link` variable, which contains the URL of the website we want to scrape. We also define the `search_term` variable, which contains the search term we want to use.\n",
    "\n",
    "2. We define the `params` variable, which contains the query parameters we want to send to the server. In this case, we want to send the search term to the server.\n",
    "\n",
    "3. We call the `requests.get()` function with the `base_link` and `params` variables as arguments. This function sends an HTTP GET request to the web server with the query parameters and returns the response. The response is then stored in the `response` variable.\n",
    "\n",
    "4. Finally, we print the `response.url` variable to see the URL that was used to send the request. This URL will contain the query parameters.\n",
    "\n",
    "<p style=\"color: darkorange\">Note: If you're wondering, we did not import the `requests` library again. This is because we already imported it in the first cell. Since Jupyter notebook is stateful, we can access the `requests` library without importing it again.</p>"
   ]
  }
 ],
 "metadata": {
  "kernelspec": {
   "display_name": "venv",
   "language": "python",
   "name": "python3"
  },
  "language_info": {
   "codemirror_mode": {
    "name": "ipython",
    "version": 3
   },
   "file_extension": ".py",
   "mimetype": "text/x-python",
   "name": "python",
   "nbconvert_exporter": "python",
   "pygments_lexer": "ipython3",
   "version": "3.12.1"
  }
 },
 "nbformat": 4,
 "nbformat_minor": 2
}
