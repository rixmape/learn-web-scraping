{
 "cells": [
  {
   "cell_type": "markdown",
   "metadata": {},
   "source": [
    "# Handling Pagination and Navigation\n",
    "\n",
    "<div style=\"text-align:center\">\n",
    "    <img src=\"https://www.seoptimer.com/storage/images/2019/08/image3-3.png\" width=600>\n",
    "</div>\n",
    "\n",
    "It is common to have to navigate through a series of pages to scrape data from a website. Perhaps you want to scrape the results of a search, or the items in a category. Most websites use pagination to handle this, and the pagination is often handled by a series of links to the next page, previous page, first page, last page, etc.\n",
    "\n",
    "This notebook will help you understand how to handle pagination and navigation using Beautiful Soup and Python.\n",
    "\n",
    "## Why is there a need for pagination?\n",
    "\n",
    "Pagination is used to break up a large set of data into smaller, more manageable chunks. This is done to improve the user experience by making it easier to read and navigate through the data. It also helps to reduce the load on the server by only loading a small amount of data at a time.\n",
    "\n",
    "## How is pagination implemented?\n",
    "\n",
    "There are several ways to navigate through several pages. The most common methods are:\n",
    "\n",
    "1. **Next and Previous Buttons**: This is the most common method of pagination. It is used to navigate through a series of pages by clicking on the next or previous button.\n",
    "\n",
    "2. **Infinite Scroll**: This method is used to load more data as the user scrolls down the page.\n",
    "\n",
    "3. **Load More Button**: This method is used to load more data by clicking on a load more button.\n",
    "\n",
    "In this notebook, we will focus on the first method. The last two methods requires JavaScript to be executed, which is not possible with Beautiful Soup. We will explore scraping dynamic websites in the other notebooks."
   ]
  },
  {
   "cell_type": "markdown",
   "metadata": {},
   "source": [
    "\n",
    "## Next and Previous Buttons\n",
    "\n",
    "This case is straightforward. Let's begin by fetching and parsing the HTML content of the first page of this [website](https://quotes.toscrape.com/)."
   ]
  },
  {
   "cell_type": "code",
   "execution_count": 18,
   "metadata": {},
   "outputs": [
    {
     "data": {
      "text/plain": [
       "<div class=\"quote\" itemscope=\"\" itemtype=\"http://schema.org/CreativeWork\">\n",
       "<span class=\"text\" itemprop=\"text\">“The world as we have created it is a process of our thinking. It cannot be changed without changing our thinking.”</span>\n",
       "<span>by <small class=\"author\" itemprop=\"author\">Albert Einstein</small>\n",
       "<a href=\"/author/Albert-Einstein\">(about)</a>\n",
       "</span>\n",
       "<div class=\"tags\">\n",
       "            Tags:\n",
       "            <meta class=\"keywords\" content=\"change,deep-thoughts,thinking,world\" itemprop=\"keywords\"/>\n",
       "<a class=\"tag\" href=\"/tag/change/page/1/\">change</a>\n",
       "<a class=\"tag\" href=\"/tag/deep-thoughts/page/1/\">deep-thoughts</a>\n",
       "<a class=\"tag\" href=\"/tag/thinking/page/1/\">thinking</a>\n",
       "<a class=\"tag\" href=\"/tag/world/page/1/\">world</a>\n",
       "</div>\n",
       "</div>"
      ]
     },
     "execution_count": 18,
     "metadata": {},
     "output_type": "execute_result"
    }
   ],
   "source": [
    "import requests\n",
    "from bs4 import BeautifulSoup\n",
    "\n",
    "base_url = \"https://quotes.toscrape.com/\"\n",
    "response = requests.get(base_url)\n",
    "soup = BeautifulSoup(response.text, \"html.parser\")\n",
    "\n",
    "quotes = soup.find_all(\"div\", class_=\"quote\")\n",
    "quotes[0]"
   ]
  },
  {
   "cell_type": "markdown",
   "metadata": {},
   "source": [
    "Now, let's check if there's indeed a link to next page."
   ]
  },
  {
   "cell_type": "code",
   "execution_count": 12,
   "metadata": {},
   "outputs": [
    {
     "data": {
      "text/plain": [
       "<li class=\"next\">\n",
       "<a href=\"/page/2/\">Next <span aria-hidden=\"true\">→</span></a>\n",
       "</li>"
      ]
     },
     "execution_count": 12,
     "metadata": {},
     "output_type": "execute_result"
    }
   ],
   "source": [
    "next_tag = soup.find(class_=\"next\")\n",
    "next_tag"
   ]
  },
  {
   "cell_type": "code",
   "execution_count": 17,
   "metadata": {},
   "outputs": [
    {
     "data": {
      "text/plain": [
       "'/page/2/'"
      ]
     },
     "execution_count": 17,
     "metadata": {},
     "output_type": "execute_result"
    }
   ],
   "source": [
    "next_link = next_tag.find(\"a\")[\"href\"]\n",
    "next_link"
   ]
  },
  {
   "cell_type": "markdown",
   "metadata": {},
   "source": [
    "There is! I am able to identify the correct tag class by inspecting the HTML content of the page. For some websites, you might need to use the `find_all` method to find all the links and then filter the one you need.\n",
    "\n",
    "Let's fetch the content of the next page and check if it worked. Since the `href` attribute of the link is a relative path, we need to concatenate it with the base URL of the website."
   ]
  },
  {
   "cell_type": "code",
   "execution_count": 19,
   "metadata": {},
   "outputs": [
    {
     "data": {
      "text/plain": [
       "<div class=\"quote\" itemscope=\"\" itemtype=\"http://schema.org/CreativeWork\">\n",
       "<span class=\"text\" itemprop=\"text\">“This life is what you make it. No matter what, you're going to mess up sometimes, it's a universal truth. But the good part is you get to decide how you're going to mess it up. Girls will be your friends - they'll act like it anyway. But just remember, some come, some go. The ones that stay with you through everything - they're your true best friends. Don't let go of them. Also remember, sisters make the best friends in the world. As for lovers, well, they'll come and go too. And baby, I hate to say it, most of them - actually pretty much all of them are going to break your heart, but you can't give up because if you give up, you'll never find your soulmate. You'll never find that half who makes you whole and that goes for everything. Just because you fail once, doesn't mean you're gonna fail at everything. Keep trying, hold on, and always, always, always believe in yourself, because if you don't, then who will, sweetie? So keep your head high, keep your chin up, and most importantly, keep smiling, because life's a beautiful thing and there's so much to smile about.”</span>\n",
       "<span>by <small class=\"author\" itemprop=\"author\">Marilyn Monroe</small>\n",
       "<a href=\"/author/Marilyn-Monroe\">(about)</a>\n",
       "</span>\n",
       "<div class=\"tags\">\n",
       "            Tags:\n",
       "            <meta class=\"keywords\" content=\"friends,heartbreak,inspirational,life,love,sisters\" itemprop=\"keywords\"/>\n",
       "<a class=\"tag\" href=\"/tag/friends/page/1/\">friends</a>\n",
       "<a class=\"tag\" href=\"/tag/heartbreak/page/1/\">heartbreak</a>\n",
       "<a class=\"tag\" href=\"/tag/inspirational/page/1/\">inspirational</a>\n",
       "<a class=\"tag\" href=\"/tag/life/page/1/\">life</a>\n",
       "<a class=\"tag\" href=\"/tag/love/page/1/\">love</a>\n",
       "<a class=\"tag\" href=\"/tag/sisters/page/1/\">sisters</a>\n",
       "</div>\n",
       "</div>"
      ]
     },
     "execution_count": 19,
     "metadata": {},
     "output_type": "execute_result"
    }
   ],
   "source": [
    "response = requests.get(base_url + next_link)\n",
    "soup = BeautifulSoup(response.text, \"html.parser\")\n",
    "\n",
    "quotes = soup.find_all(\"div\", class_=\"quote\")\n",
    "quotes[0]"
   ]
  },
  {
   "cell_type": "markdown",
   "metadata": {},
   "source": [
    "Notice the quote we scraped in the first page is different from the one in the second page. This means we successfully navigated to the next page. Putting it all together:"
   ]
  },
  {
   "cell_type": "code",
   "execution_count": 24,
   "metadata": {},
   "outputs": [
    {
     "data": {
      "text/plain": [
       "(100,\n",
       " [{'text': '“The world as we have created it is a process of our thinking. It cannot be changed without changing our thinking.”',\n",
       "   'author': 'Albert Einstein',\n",
       "   'author_link': 'https://quotes.toscrape.com/author/Albert-Einstein'},\n",
       "  {'text': '“It is our choices, Harry, that show what we truly are, far more than our abilities.”',\n",
       "   'author': 'J.K. Rowling',\n",
       "   'author_link': 'https://quotes.toscrape.com/author/J-K-Rowling'},\n",
       "  {'text': '“There are only two ways to live your life. One is as though nothing is a miracle. The other is as though everything is a miracle.”',\n",
       "   'author': 'Albert Einstein',\n",
       "   'author_link': 'https://quotes.toscrape.com/author/Albert-Einstein'}])"
      ]
     },
     "execution_count": 24,
     "metadata": {},
     "output_type": "execute_result"
    }
   ],
   "source": [
    "import requests\n",
    "from bs4 import BeautifulSoup\n",
    "\n",
    "BASE_URL = \"https://quotes.toscrape.com\"\n",
    "\n",
    "\n",
    "def get_soup(url):\n",
    "    response = requests.get(url)\n",
    "    return BeautifulSoup(response.text, \"html.parser\")\n",
    "\n",
    "\n",
    "def get_quote_info(quote):\n",
    "    text = quote.find(\"span\", class_=\"text\").get_text()\n",
    "    author = quote.find(\"small\", class_=\"author\").get_text()\n",
    "    author_link = BASE_URL + quote.find(\"a\")[\"href\"]\n",
    "    return {\n",
    "        \"text\": text,\n",
    "        \"author\": author,\n",
    "        \"author_link\": author_link,\n",
    "    }\n",
    "\n",
    "\n",
    "def scrape_quotes(soup):\n",
    "    quotes = soup.find_all(\"div\", class_=\"quote\")\n",
    "    return [get_quote_info(quote) for quote in quotes]\n",
    "\n",
    "\n",
    "def get_next_link(soup):\n",
    "    next_tag = soup.find(class_=\"next\")\n",
    "    return next_tag.find(\"a\")[\"href\"] if next_tag else None\n",
    "\n",
    "\n",
    "soup = get_soup(BASE_URL)\n",
    "quote_info = scrape_quotes(soup)\n",
    "\n",
    "next_link = get_next_link(soup)\n",
    "while next_link:\n",
    "    soup = get_soup(BASE_URL + next_link)\n",
    "    quote_info += scrape_quotes(soup)\n",
    "    next_link = get_next_link(soup)\n",
    "\n",
    "len(quote_info), quote_info[:3]"
   ]
  }
 ],
 "metadata": {
  "kernelspec": {
   "display_name": "venv",
   "language": "python",
   "name": "python3"
  },
  "language_info": {
   "codemirror_mode": {
    "name": "ipython",
    "version": 3
   },
   "file_extension": ".py",
   "mimetype": "text/x-python",
   "name": "python",
   "nbconvert_exporter": "python",
   "pygments_lexer": "ipython3",
   "version": "3.12.1"
  }
 },
 "nbformat": 4,
 "nbformat_minor": 2
}
